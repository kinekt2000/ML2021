{
 "cells": [
  {
   "cell_type": "code",
   "execution_count": 1,
   "source": [
    "import pandas as pd\r\n",
    "import numpy as np\r\n",
    "import matplotlib.pyplot as plt\r\n",
    "from matplotlib.pyplot import figure\r\n",
    "from sklearn import preprocessing"
   ],
   "outputs": [],
   "metadata": {}
  },
  {
   "cell_type": "code",
   "execution_count": 23,
   "source": [
    "df = pd.read_csv('heart_failure_clinical_records_dataset.csv')\r\n",
    "df = df.drop(columns=[\r\n",
    "    'anaemia', 'diabetes', 'high_blood_pressure',\r\n",
    "    'sex','smoking','time','DEATH_EVENT'\r\n",
    "])\r\n",
    "df"
   ],
   "outputs": [
    {
     "output_type": "execute_result",
     "data": {
      "text/html": [
       "<div>\n",
       "<style scoped>\n",
       "    .dataframe tbody tr th:only-of-type {\n",
       "        vertical-align: middle;\n",
       "    }\n",
       "\n",
       "    .dataframe tbody tr th {\n",
       "        vertical-align: top;\n",
       "    }\n",
       "\n",
       "    .dataframe thead th {\n",
       "        text-align: right;\n",
       "    }\n",
       "</style>\n",
       "<table border=\"1\" class=\"dataframe\">\n",
       "  <thead>\n",
       "    <tr style=\"text-align: right;\">\n",
       "      <th></th>\n",
       "      <th>age</th>\n",
       "      <th>creatinine_phosphokinase</th>\n",
       "      <th>ejection_fraction</th>\n",
       "      <th>platelets</th>\n",
       "      <th>serum_creatinine</th>\n",
       "      <th>serum_sodium</th>\n",
       "    </tr>\n",
       "  </thead>\n",
       "  <tbody>\n",
       "    <tr>\n",
       "      <th>0</th>\n",
       "      <td>75.0</td>\n",
       "      <td>582</td>\n",
       "      <td>20</td>\n",
       "      <td>265000.00</td>\n",
       "      <td>1.9</td>\n",
       "      <td>130</td>\n",
       "    </tr>\n",
       "    <tr>\n",
       "      <th>1</th>\n",
       "      <td>55.0</td>\n",
       "      <td>7861</td>\n",
       "      <td>38</td>\n",
       "      <td>263358.03</td>\n",
       "      <td>1.1</td>\n",
       "      <td>136</td>\n",
       "    </tr>\n",
       "    <tr>\n",
       "      <th>2</th>\n",
       "      <td>65.0</td>\n",
       "      <td>146</td>\n",
       "      <td>20</td>\n",
       "      <td>162000.00</td>\n",
       "      <td>1.3</td>\n",
       "      <td>129</td>\n",
       "    </tr>\n",
       "    <tr>\n",
       "      <th>3</th>\n",
       "      <td>50.0</td>\n",
       "      <td>111</td>\n",
       "      <td>20</td>\n",
       "      <td>210000.00</td>\n",
       "      <td>1.9</td>\n",
       "      <td>137</td>\n",
       "    </tr>\n",
       "    <tr>\n",
       "      <th>4</th>\n",
       "      <td>65.0</td>\n",
       "      <td>160</td>\n",
       "      <td>20</td>\n",
       "      <td>327000.00</td>\n",
       "      <td>2.7</td>\n",
       "      <td>116</td>\n",
       "    </tr>\n",
       "    <tr>\n",
       "      <th>...</th>\n",
       "      <td>...</td>\n",
       "      <td>...</td>\n",
       "      <td>...</td>\n",
       "      <td>...</td>\n",
       "      <td>...</td>\n",
       "      <td>...</td>\n",
       "    </tr>\n",
       "    <tr>\n",
       "      <th>294</th>\n",
       "      <td>62.0</td>\n",
       "      <td>61</td>\n",
       "      <td>38</td>\n",
       "      <td>155000.00</td>\n",
       "      <td>1.1</td>\n",
       "      <td>143</td>\n",
       "    </tr>\n",
       "    <tr>\n",
       "      <th>295</th>\n",
       "      <td>55.0</td>\n",
       "      <td>1820</td>\n",
       "      <td>38</td>\n",
       "      <td>270000.00</td>\n",
       "      <td>1.2</td>\n",
       "      <td>139</td>\n",
       "    </tr>\n",
       "    <tr>\n",
       "      <th>296</th>\n",
       "      <td>45.0</td>\n",
       "      <td>2060</td>\n",
       "      <td>60</td>\n",
       "      <td>742000.00</td>\n",
       "      <td>0.8</td>\n",
       "      <td>138</td>\n",
       "    </tr>\n",
       "    <tr>\n",
       "      <th>297</th>\n",
       "      <td>45.0</td>\n",
       "      <td>2413</td>\n",
       "      <td>38</td>\n",
       "      <td>140000.00</td>\n",
       "      <td>1.4</td>\n",
       "      <td>140</td>\n",
       "    </tr>\n",
       "    <tr>\n",
       "      <th>298</th>\n",
       "      <td>50.0</td>\n",
       "      <td>196</td>\n",
       "      <td>45</td>\n",
       "      <td>395000.00</td>\n",
       "      <td>1.6</td>\n",
       "      <td>136</td>\n",
       "    </tr>\n",
       "  </tbody>\n",
       "</table>\n",
       "<p>299 rows × 6 columns</p>\n",
       "</div>"
      ],
      "text/plain": [
       "      age  creatinine_phosphokinase  ejection_fraction  platelets  \\\n",
       "0    75.0                       582                 20  265000.00   \n",
       "1    55.0                      7861                 38  263358.03   \n",
       "2    65.0                       146                 20  162000.00   \n",
       "3    50.0                       111                 20  210000.00   \n",
       "4    65.0                       160                 20  327000.00   \n",
       "..    ...                       ...                ...        ...   \n",
       "294  62.0                        61                 38  155000.00   \n",
       "295  55.0                      1820                 38  270000.00   \n",
       "296  45.0                      2060                 60  742000.00   \n",
       "297  45.0                      2413                 38  140000.00   \n",
       "298  50.0                       196                 45  395000.00   \n",
       "\n",
       "     serum_creatinine  serum_sodium  \n",
       "0                 1.9           130  \n",
       "1                 1.1           136  \n",
       "2                 1.3           129  \n",
       "3                 1.9           137  \n",
       "4                 2.7           116  \n",
       "..                ...           ...  \n",
       "294               1.1           143  \n",
       "295               1.2           139  \n",
       "296               0.8           138  \n",
       "297               1.4           140  \n",
       "298               1.6           136  \n",
       "\n",
       "[299 rows x 6 columns]"
      ]
     },
     "metadata": {},
     "execution_count": 23
    }
   ],
   "metadata": {}
  },
  {
   "cell_type": "code",
   "execution_count": 3,
   "source": [
    "n_bins = 20\r\n",
    "fig, axs = plt.subplots(2,3)\r\n",
    "axs[0, 0].hist(df['age'].values, bins = n_bins)\r\n",
    "axs[0, 0].set_title('age')\r\n",
    "axs[0, 1].hist(df['creatinine_phosphokinase'].values, bins = n_bins)\r\n",
    "axs[0, 1].set_title('creatinine_phosphokinase')\r\n",
    "axs[0, 2].hist(df['ejection_fraction'].values, bins = n_bins)\r\n",
    "axs[0, 2].set_title('ejection_fraction')\r\n",
    "axs[1, 0].hist(df['platelets'].values, bins = n_bins)\r\n",
    "axs[1, 0].set_title('platelets')\r\n",
    "axs[1, 1].hist(df['serum_creatinine'].values, bins = n_bins)\r\n",
    "axs[1, 1].set_title('serum_creatinine')\r\n",
    "axs[1, 2].hist(df['serum_sodium'].values, bins = n_bins)\r\n",
    "axs[1, 2].set_title('serum_sodium')\r\n",
    "\r\n",
    "fig.set_size_inches(18.5, 10.5)"
   ],
   "outputs": [
    {
     "output_type": "display_data",
     "data": {
      "image/png": "[encoded data removed]",
      "text/plain": [
       "<Figure size 1332x756 with 6 Axes>"
      ]
     },
     "metadata": {
      "needs_background": "light"
     }
    }
   ],
   "metadata": {}
  },
  {
   "cell_type": "code",
   "execution_count": 4,
   "source": [
    "df.describe().append(\r\n",
    "    pd.DataFrame(df.var(), columns=['variance']).T\r\n",
    ").append(\r\n",
    "    df.mode().rename(index={0: 'mode'})\r\n",
    ").drop(['25%', '50%', '75%', 'count']).round(2)"
   ],
   "outputs": [
    {
     "output_type": "execute_result",
     "data": {
      "text/html": [
       "<div>\n",
       "<style scoped>\n",
       "    .dataframe tbody tr th:only-of-type {\n",
       "        vertical-align: middle;\n",
       "    }\n",
       "\n",
       "    .dataframe tbody tr th {\n",
       "        vertical-align: top;\n",
       "    }\n",
       "\n",
       "    .dataframe thead th {\n",
       "        text-align: right;\n",
       "    }\n",
       "</style>\n",
       "<table border=\"1\" class=\"dataframe\">\n",
       "  <thead>\n",
       "    <tr style=\"text-align: right;\">\n",
       "      <th></th>\n",
       "      <th>age</th>\n",
       "      <th>creatinine_phosphokinase</th>\n",
       "      <th>ejection_fraction</th>\n",
       "      <th>platelets</th>\n",
       "      <th>serum_creatinine</th>\n",
       "      <th>serum_sodium</th>\n",
       "    </tr>\n",
       "  </thead>\n",
       "  <tbody>\n",
       "    <tr>\n",
       "      <th>mean</th>\n",
       "      <td>60.83</td>\n",
       "      <td>581.84</td>\n",
       "      <td>38.08</td>\n",
       "      <td>2.633580e+05</td>\n",
       "      <td>1.39</td>\n",
       "      <td>136.63</td>\n",
       "    </tr>\n",
       "    <tr>\n",
       "      <th>std</th>\n",
       "      <td>11.89</td>\n",
       "      <td>970.29</td>\n",
       "      <td>11.83</td>\n",
       "      <td>9.780424e+04</td>\n",
       "      <td>1.03</td>\n",
       "      <td>4.41</td>\n",
       "    </tr>\n",
       "    <tr>\n",
       "      <th>min</th>\n",
       "      <td>40.00</td>\n",
       "      <td>23.00</td>\n",
       "      <td>14.00</td>\n",
       "      <td>2.510000e+04</td>\n",
       "      <td>0.50</td>\n",
       "      <td>113.00</td>\n",
       "    </tr>\n",
       "    <tr>\n",
       "      <th>max</th>\n",
       "      <td>95.00</td>\n",
       "      <td>7861.00</td>\n",
       "      <td>80.00</td>\n",
       "      <td>8.500000e+05</td>\n",
       "      <td>9.40</td>\n",
       "      <td>148.00</td>\n",
       "    </tr>\n",
       "    <tr>\n",
       "      <th>variance</th>\n",
       "      <td>141.49</td>\n",
       "      <td>941458.57</td>\n",
       "      <td>140.06</td>\n",
       "      <td>9.565669e+09</td>\n",
       "      <td>1.07</td>\n",
       "      <td>19.47</td>\n",
       "    </tr>\n",
       "    <tr>\n",
       "      <th>mode</th>\n",
       "      <td>60.00</td>\n",
       "      <td>582.00</td>\n",
       "      <td>35.00</td>\n",
       "      <td>2.633580e+05</td>\n",
       "      <td>1.00</td>\n",
       "      <td>136.00</td>\n",
       "    </tr>\n",
       "  </tbody>\n",
       "</table>\n",
       "</div>"
      ],
      "text/plain": [
       "             age  creatinine_phosphokinase  ejection_fraction     platelets  \\\n",
       "mean       60.83                    581.84              38.08  2.633580e+05   \n",
       "std        11.89                    970.29              11.83  9.780424e+04   \n",
       "min        40.00                     23.00              14.00  2.510000e+04   \n",
       "max        95.00                   7861.00              80.00  8.500000e+05   \n",
       "variance  141.49                 941458.57             140.06  9.565669e+09   \n",
       "mode       60.00                    582.00              35.00  2.633580e+05   \n",
       "\n",
       "          serum_creatinine  serum_sodium  \n",
       "mean                  1.39        136.63  \n",
       "std                   1.03          4.41  \n",
       "min                   0.50        113.00  \n",
       "max                   9.40        148.00  \n",
       "variance              1.07         19.47  \n",
       "mode                  1.00        136.00  "
      ]
     },
     "metadata": {},
     "execution_count": 4
    }
   ],
   "metadata": {}
  },
  {
   "cell_type": "code",
   "execution_count": null,
   "source": [],
   "outputs": [],
   "metadata": {}
  },
  {
   "cell_type": "code",
   "execution_count": 5,
   "source": [
    "data = df.to_numpy(dtype='float')"
   ],
   "outputs": [],
   "metadata": {}
  },
  {
   "cell_type": "code",
   "execution_count": 6,
   "source": [
    "scaler = preprocessing.StandardScaler().fit(data[:150, :])"
   ],
   "outputs": [],
   "metadata": {}
  },
  {
   "cell_type": "code",
   "execution_count": 7,
   "source": [
    "data_scaled = scaler.transform(data)"
   ],
   "outputs": [],
   "metadata": {}
  },
  {
   "cell_type": "code",
   "execution_count": null,
   "source": [],
   "outputs": [],
   "metadata": {}
  },
  {
   "cell_type": "code",
   "execution_count": 8,
   "source": [
    "def draw_plots(data):\r\n",
    "    fig, axs = plt.subplots(2,3)\r\n",
    "    axs[0, 0].hist(data[:,0], bins = n_bins)\r\n",
    "    axs[0, 0].set_title('age')\r\n",
    "    axs[0, 1].hist(data[:,1], bins = n_bins)\r\n",
    "    axs[0, 1].set_title('creatinine_phosphokinase')\r\n",
    "    axs[0, 2].hist(data[:,2], bins = n_bins)\r\n",
    "    axs[0, 2].set_title('ejection_fraction')\r\n",
    "    axs[1, 0].hist(data[:,3], bins = n_bins)\r\n",
    "    axs[1, 0].set_title('platelets')\r\n",
    "    axs[1, 1].hist(data[:,4], bins = n_bins)\r\n",
    "    axs[1, 1].set_title('serum_creatinine')\r\n",
    "    axs[1, 2].hist(data[:,5], bins = n_bins)\r\n",
    "    axs[1, 2].set_title('serum_sodium')\r\n",
    "    fig.set_size_inches(18.5, 10.5)\r\n",
    "\r\n",
    "def get_data_info(data):\r\n",
    "    df = pd.DataFrame(\r\n",
    "        data=data, \r\n",
    "        columns=['age', 'creatinine_phosphokinase', 'ejection_fraction', 'platelets', 'serum_creatinine', 'serum_sodium']\r\n",
    "    )\r\n",
    "    return df.describe().append(\r\n",
    "        pd.DataFrame(df.var(), columns=['variance']).T\r\n",
    "    ).append(\r\n",
    "        df.mode().rename(index={0: 'mode'})\r\n",
    "    ).drop(['25%', '50%', '75%', 'count']).round(2)"
   ],
   "outputs": [],
   "metadata": {}
  },
  {
   "cell_type": "code",
   "execution_count": 9,
   "source": [
    "draw_plots(data_scaled)"
   ],
   "outputs": [
    {
     "output_type": "display_data",
     "data": {
      "image/png": "[encoded data removed]",
      "text/plain": [
       "<Figure size 1332x756 with 6 Axes>"
      ]
     },
     "metadata": {
      "needs_background": "light"
     }
    }
   ],
   "metadata": {}
  },
  {
   "cell_type": "code",
   "execution_count": 10,
   "source": [
    "data_scaled.shape"
   ],
   "outputs": [
    {
     "output_type": "execute_result",
     "data": {
      "text/plain": [
       "(299, 6)"
      ]
     },
     "metadata": {},
     "execution_count": 10
    }
   ],
   "metadata": {}
  },
  {
   "cell_type": "code",
   "execution_count": 11,
   "source": [
    "get_data_info(data_scaled)"
   ],
   "outputs": [
    {
     "output_type": "execute_result",
     "data": {
      "text/html": [
       "<div>\n",
       "<style scoped>\n",
       "    .dataframe tbody tr th:only-of-type {\n",
       "        vertical-align: middle;\n",
       "    }\n",
       "\n",
       "    .dataframe tbody tr th {\n",
       "        vertical-align: top;\n",
       "    }\n",
       "\n",
       "    .dataframe thead th {\n",
       "        text-align: right;\n",
       "    }\n",
       "</style>\n",
       "<table border=\"1\" class=\"dataframe\">\n",
       "  <thead>\n",
       "    <tr style=\"text-align: right;\">\n",
       "      <th></th>\n",
       "      <th>age</th>\n",
       "      <th>creatinine_phosphokinase</th>\n",
       "      <th>ejection_fraction</th>\n",
       "      <th>platelets</th>\n",
       "      <th>serum_creatinine</th>\n",
       "      <th>serum_sodium</th>\n",
       "    </tr>\n",
       "  </thead>\n",
       "  <tbody>\n",
       "    <tr>\n",
       "      <th>mean</th>\n",
       "      <td>-0.17</td>\n",
       "      <td>-0.02</td>\n",
       "      <td>0.01</td>\n",
       "      <td>-0.04</td>\n",
       "      <td>-0.11</td>\n",
       "      <td>0.04</td>\n",
       "    </tr>\n",
       "    <tr>\n",
       "      <th>std</th>\n",
       "      <td>0.96</td>\n",
       "      <td>0.82</td>\n",
       "      <td>0.91</td>\n",
       "      <td>1.02</td>\n",
       "      <td>0.89</td>\n",
       "      <td>0.97</td>\n",
       "    </tr>\n",
       "    <tr>\n",
       "      <th>min</th>\n",
       "      <td>-1.84</td>\n",
       "      <td>-0.49</td>\n",
       "      <td>-1.84</td>\n",
       "      <td>-2.51</td>\n",
       "      <td>-0.87</td>\n",
       "      <td>-5.17</td>\n",
       "    </tr>\n",
       "    <tr>\n",
       "      <th>max</th>\n",
       "      <td>2.57</td>\n",
       "      <td>6.10</td>\n",
       "      <td>3.23</td>\n",
       "      <td>6.06</td>\n",
       "      <td>6.76</td>\n",
       "      <td>2.54</td>\n",
       "    </tr>\n",
       "    <tr>\n",
       "      <th>variance</th>\n",
       "      <td>0.91</td>\n",
       "      <td>0.67</td>\n",
       "      <td>0.82</td>\n",
       "      <td>1.03</td>\n",
       "      <td>0.79</td>\n",
       "      <td>0.94</td>\n",
       "    </tr>\n",
       "    <tr>\n",
       "      <th>mode</th>\n",
       "      <td>-0.24</td>\n",
       "      <td>-0.02</td>\n",
       "      <td>-0.23</td>\n",
       "      <td>-0.04</td>\n",
       "      <td>-0.45</td>\n",
       "      <td>-0.10</td>\n",
       "    </tr>\n",
       "  </tbody>\n",
       "</table>\n",
       "</div>"
      ],
      "text/plain": [
       "           age  creatinine_phosphokinase  ejection_fraction  platelets  \\\n",
       "mean     -0.17                     -0.02               0.01      -0.04   \n",
       "std       0.96                      0.82               0.91       1.02   \n",
       "min      -1.84                     -0.49              -1.84      -2.51   \n",
       "max       2.57                      6.10               3.23       6.06   \n",
       "variance  0.91                      0.67               0.82       1.03   \n",
       "mode     -0.24                     -0.02              -0.23      -0.04   \n",
       "\n",
       "          serum_creatinine  serum_sodium  \n",
       "mean                 -0.11          0.04  \n",
       "std                   0.89          0.97  \n",
       "min                  -0.87         -5.17  \n",
       "max                   6.76          2.54  \n",
       "variance              0.79          0.94  \n",
       "mode                 -0.45         -0.10  "
      ]
     },
     "metadata": {},
     "execution_count": 11
    }
   ],
   "metadata": {}
  },
  {
   "cell_type": "code",
   "execution_count": 12,
   "source": [
    "scaler.mean_"
   ],
   "outputs": [
    {
     "output_type": "execute_result",
     "data": {
      "text/plain": [
       "array([6.29466667e+01, 6.07153333e+02, 3.79466667e+01, 2.66746749e+05,\n",
       "       1.52060000e+00, 1.36453333e+02])"
      ]
     },
     "metadata": {},
     "execution_count": 12
    }
   ],
   "metadata": {}
  },
  {
   "cell_type": "code",
   "execution_count": 13,
   "source": [
    "scaler.var_"
   ],
   "outputs": [
    {
     "output_type": "execute_result",
     "data": {
      "text/plain": [
       "array([1.54997156e+02, 1.41548882e+06, 1.70023822e+02, 9.25286050e+09,\n",
       "       1.36052697e+00, 2.06078222e+01])"
      ]
     },
     "metadata": {},
     "execution_count": 13
    }
   ],
   "metadata": {}
  },
  {
   "cell_type": "code",
   "execution_count": 14,
   "source": [
    "scaler_full = preprocessing.StandardScaler().fit(data)"
   ],
   "outputs": [],
   "metadata": {}
  },
  {
   "cell_type": "code",
   "execution_count": 15,
   "source": [
    "scaler_full.mean_"
   ],
   "outputs": [
    {
     "output_type": "execute_result",
     "data": {
      "text/plain": [
       "array([6.08338930e+01, 5.81839465e+02, 3.80836120e+01, 2.63358029e+05,\n",
       "       1.39387960e+00, 1.36625418e+02])"
      ]
     },
     "metadata": {},
     "execution_count": 15
    }
   ],
   "metadata": {}
  },
  {
   "cell_type": "code",
   "execution_count": 16,
   "source": [
    "scaler_full.var_"
   ],
   "outputs": [
    {
     "output_type": "execute_result",
     "data": {
      "text/plain": [
       "array([1.41013284e+02, 9.38309881e+05, 1.39595016e+02, 9.53367655e+09,\n",
       "       1.06663177e+00, 1.94048389e+01])"
      ]
     },
     "metadata": {},
     "execution_count": 16
    }
   ],
   "metadata": {}
  },
  {
   "cell_type": "code",
   "execution_count": 17,
   "source": [
    "data_scaled_full = scaler_full.transform(data)"
   ],
   "outputs": [],
   "metadata": {}
  },
  {
   "cell_type": "code",
   "execution_count": 18,
   "source": [
    "draw_plots(data_scaled_full)"
   ],
   "outputs": [
    {
     "output_type": "display_data",
     "data": {
      "image/png": "[encoded data removed]",
      "text/plain": [
       "<Figure size 1332x756 with 6 Axes>"
      ]
     },
     "metadata": {
      "needs_background": "light"
     }
    }
   ],
   "metadata": {}
  },
  {
   "cell_type": "code",
   "execution_count": null,
   "source": [],
   "outputs": [],
   "metadata": {}
  },
  {
   "cell_type": "code",
   "execution_count": 19,
   "source": [
    "get_data_info(data_scaled_full)"
   ],
   "outputs": [
    {
     "output_type": "execute_result",
     "data": {
      "text/html": [
       "<div>\n",
       "<style scoped>\n",
       "    .dataframe tbody tr th:only-of-type {\n",
       "        vertical-align: middle;\n",
       "    }\n",
       "\n",
       "    .dataframe tbody tr th {\n",
       "        vertical-align: top;\n",
       "    }\n",
       "\n",
       "    .dataframe thead th {\n",
       "        text-align: right;\n",
       "    }\n",
       "</style>\n",
       "<table border=\"1\" class=\"dataframe\">\n",
       "  <thead>\n",
       "    <tr style=\"text-align: right;\">\n",
       "      <th></th>\n",
       "      <th>age</th>\n",
       "      <th>creatinine_phosphokinase</th>\n",
       "      <th>ejection_fraction</th>\n",
       "      <th>platelets</th>\n",
       "      <th>serum_creatinine</th>\n",
       "      <th>serum_sodium</th>\n",
       "    </tr>\n",
       "  </thead>\n",
       "  <tbody>\n",
       "    <tr>\n",
       "      <th>mean</th>\n",
       "      <td>0.00</td>\n",
       "      <td>0.00</td>\n",
       "      <td>-0.00</td>\n",
       "      <td>0.00</td>\n",
       "      <td>0.00</td>\n",
       "      <td>-0.00</td>\n",
       "    </tr>\n",
       "    <tr>\n",
       "      <th>std</th>\n",
       "      <td>1.00</td>\n",
       "      <td>1.00</td>\n",
       "      <td>1.00</td>\n",
       "      <td>1.00</td>\n",
       "      <td>1.00</td>\n",
       "      <td>1.00</td>\n",
       "    </tr>\n",
       "    <tr>\n",
       "      <th>min</th>\n",
       "      <td>-1.75</td>\n",
       "      <td>-0.58</td>\n",
       "      <td>-2.04</td>\n",
       "      <td>-2.44</td>\n",
       "      <td>-0.87</td>\n",
       "      <td>-5.36</td>\n",
       "    </tr>\n",
       "    <tr>\n",
       "      <th>max</th>\n",
       "      <td>2.88</td>\n",
       "      <td>7.51</td>\n",
       "      <td>3.55</td>\n",
       "      <td>6.01</td>\n",
       "      <td>7.75</td>\n",
       "      <td>2.58</td>\n",
       "    </tr>\n",
       "    <tr>\n",
       "      <th>variance</th>\n",
       "      <td>1.00</td>\n",
       "      <td>1.00</td>\n",
       "      <td>1.00</td>\n",
       "      <td>1.00</td>\n",
       "      <td>1.00</td>\n",
       "      <td>1.00</td>\n",
       "    </tr>\n",
       "    <tr>\n",
       "      <th>mode</th>\n",
       "      <td>-0.07</td>\n",
       "      <td>0.00</td>\n",
       "      <td>-0.26</td>\n",
       "      <td>0.00</td>\n",
       "      <td>-0.38</td>\n",
       "      <td>-0.14</td>\n",
       "    </tr>\n",
       "  </tbody>\n",
       "</table>\n",
       "</div>"
      ],
      "text/plain": [
       "           age  creatinine_phosphokinase  ejection_fraction  platelets  \\\n",
       "mean      0.00                      0.00              -0.00       0.00   \n",
       "std       1.00                      1.00               1.00       1.00   \n",
       "min      -1.75                     -0.58              -2.04      -2.44   \n",
       "max       2.88                      7.51               3.55       6.01   \n",
       "variance  1.00                      1.00               1.00       1.00   \n",
       "mode     -0.07                      0.00              -0.26       0.00   \n",
       "\n",
       "          serum_creatinine  serum_sodium  \n",
       "mean                  0.00         -0.00  \n",
       "std                   1.00          1.00  \n",
       "min                  -0.87         -5.36  \n",
       "max                   7.75          2.58  \n",
       "variance              1.00          1.00  \n",
       "mode                 -0.38         -0.14  "
      ]
     },
     "metadata": {},
     "execution_count": 19
    }
   ],
   "metadata": {}
  },
  {
   "cell_type": "code",
   "execution_count": null,
   "source": [],
   "outputs": [],
   "metadata": {}
  },
  {
   "cell_type": "code",
   "execution_count": 20,
   "source": [
    "min_max_scaler = preprocessing.MinMaxScaler().fit(data)\n",
    "data_min_max_scaled = min_max_scaler.transform(data)"
   ],
   "outputs": [],
   "metadata": {}
  },
  {
   "cell_type": "code",
   "execution_count": 21,
   "source": [
    "draw_plots(data_min_max_scaled)"
   ],
   "outputs": [
    {
     "output_type": "display_data",
     "data": {
      "image/png": "[encoded data removed]",
      "text/plain": [
       "<Figure size 1332x756 with 6 Axes>"
      ]
     },
     "metadata": {
      "needs_background": "light"
     }
    }
   ],
   "metadata": {}
  },
  {
   "cell_type": "code",
   "execution_count": 22,
   "source": [
    "get_data_info(data_min_max_scaled)"
   ],
   "outputs": [
    {
     "output_type": "execute_result",
     "data": {
      "text/html": [
       "<div>\n",
       "<style scoped>\n",
       "    .dataframe tbody tr th:only-of-type {\n",
       "        vertical-align: middle;\n",
       "    }\n",
       "\n",
       "    .dataframe tbody tr th {\n",
       "        vertical-align: top;\n",
       "    }\n",
       "\n",
       "    .dataframe thead th {\n",
       "        text-align: right;\n",
       "    }\n",
       "</style>\n",
       "<table border=\"1\" class=\"dataframe\">\n",
       "  <thead>\n",
       "    <tr style=\"text-align: right;\">\n",
       "      <th></th>\n",
       "      <th>age</th>\n",
       "      <th>creatinine_phosphokinase</th>\n",
       "      <th>ejection_fraction</th>\n",
       "      <th>platelets</th>\n",
       "      <th>serum_creatinine</th>\n",
       "      <th>serum_sodium</th>\n",
       "    </tr>\n",
       "  </thead>\n",
       "  <tbody>\n",
       "    <tr>\n",
       "      <th>mean</th>\n",
       "      <td>0.38</td>\n",
       "      <td>0.07</td>\n",
       "      <td>0.36</td>\n",
       "      <td>0.29</td>\n",
       "      <td>0.10</td>\n",
       "      <td>0.68</td>\n",
       "    </tr>\n",
       "    <tr>\n",
       "      <th>std</th>\n",
       "      <td>0.22</td>\n",
       "      <td>0.12</td>\n",
       "      <td>0.18</td>\n",
       "      <td>0.12</td>\n",
       "      <td>0.12</td>\n",
       "      <td>0.13</td>\n",
       "    </tr>\n",
       "    <tr>\n",
       "      <th>min</th>\n",
       "      <td>0.00</td>\n",
       "      <td>0.00</td>\n",
       "      <td>0.00</td>\n",
       "      <td>0.00</td>\n",
       "      <td>0.00</td>\n",
       "      <td>0.00</td>\n",
       "    </tr>\n",
       "    <tr>\n",
       "      <th>max</th>\n",
       "      <td>1.00</td>\n",
       "      <td>1.00</td>\n",
       "      <td>1.00</td>\n",
       "      <td>1.00</td>\n",
       "      <td>1.00</td>\n",
       "      <td>1.00</td>\n",
       "    </tr>\n",
       "    <tr>\n",
       "      <th>variance</th>\n",
       "      <td>0.05</td>\n",
       "      <td>0.02</td>\n",
       "      <td>0.03</td>\n",
       "      <td>0.01</td>\n",
       "      <td>0.01</td>\n",
       "      <td>0.02</td>\n",
       "    </tr>\n",
       "    <tr>\n",
       "      <th>mode</th>\n",
       "      <td>0.36</td>\n",
       "      <td>0.07</td>\n",
       "      <td>0.32</td>\n",
       "      <td>0.29</td>\n",
       "      <td>0.06</td>\n",
       "      <td>0.66</td>\n",
       "    </tr>\n",
       "  </tbody>\n",
       "</table>\n",
       "</div>"
      ],
      "text/plain": [
       "           age  creatinine_phosphokinase  ejection_fraction  platelets  \\\n",
       "mean      0.38                      0.07               0.36       0.29   \n",
       "std       0.22                      0.12               0.18       0.12   \n",
       "min       0.00                      0.00               0.00       0.00   \n",
       "max       1.00                      1.00               1.00       1.00   \n",
       "variance  0.05                      0.02               0.03       0.01   \n",
       "mode      0.36                      0.07               0.32       0.29   \n",
       "\n",
       "          serum_creatinine  serum_sodium  \n",
       "mean                  0.10          0.68  \n",
       "std                   0.12          0.13  \n",
       "min                   0.00          0.00  \n",
       "max                   1.00          1.00  \n",
       "variance              0.01          0.02  \n",
       "mode                  0.06          0.66  "
      ]
     },
     "metadata": {},
     "execution_count": 22
    }
   ],
   "metadata": {}
  },
  {
   "cell_type": "code",
   "execution_count": null,
   "source": [],
   "outputs": [],
   "metadata": {}
  },
  {
   "cell_type": "code",
   "execution_count": null,
   "source": [],
   "outputs": [],
   "metadata": {}
  },
  {
   "cell_type": "code",
   "execution_count": null,
   "source": [],
   "outputs": [],
   "metadata": {}
  }
 ],
 "metadata": {
  "kernelspec": {
   "name": "python3",
   "display_name": "Python 3.9.7 64-bit"
  },
  "language_info": {
   "codemirror_mode": {
    "name": "ipython",
    "version": 3
   },
   "file_extension": ".py",
   "mimetype": "text/x-python",
   "name": "python",
   "nbconvert_exporter": "python",
   "pygments_lexer": "ipython3",
   "version": "3.9.7"
  },
  "interpreter": {
   "hash": "fe44fef87f92f48a3a32707d0df204585f471652bc0ce87358a3ce712bc24db0"
  }
 },
 "nbformat": 4,
 "nbformat_minor": 5
}