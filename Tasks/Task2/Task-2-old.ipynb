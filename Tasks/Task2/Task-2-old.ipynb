{
 "cells": [
  {
   "cell_type": "code",
   "execution_count": 30,
   "source": [
    "import pandas as pd\r\n",
    "import numpy as np\r\n",
    "\r\n",
    "from sklearn import decomposition\r\n",
    "from sklearn import preprocessing\r\n",
    "\r\n",
    "import matplotlib.pyplot as plt\r\n",
    "import seaborn as sb"
   ],
   "outputs": [],
   "metadata": {}
  },
  {
   "cell_type": "markdown",
   "source": [
    "# Задание 1"
   ],
   "metadata": {}
  },
  {
   "cell_type": "code",
   "execution_count": 31,
   "source": [
    "data_1 = np.array([\r\n",
    "    np.array([4,   2.9]),\r\n",
    "    np.array([2.5, 1  ]),\r\n",
    "    np.array([3.5, 4  ]),\r\n",
    "    np.array([2,   2.1])\r\n",
    "])\r\n",
    "\r\n",
    "kernel_function = lambda x1, x2: np.linalg.norm(x1 - x2)**2\r\n",
    "\r\n",
    "kernel_matrix = [[kernel_function(x1, x2) for x2 in data_1] for x1 in data_1]\r\n",
    "pd.DataFrame(kernel_matrix)"
   ],
   "outputs": [
    {
     "output_type": "execute_result",
     "data": {
      "text/html": [
       "<div>\n",
       "<style scoped>\n",
       "    .dataframe tbody tr th:only-of-type {\n",
       "        vertical-align: middle;\n",
       "    }\n",
       "\n",
       "    .dataframe tbody tr th {\n",
       "        vertical-align: top;\n",
       "    }\n",
       "\n",
       "    .dataframe thead th {\n",
       "        text-align: right;\n",
       "    }\n",
       "</style>\n",
       "<table border=\"1\" class=\"dataframe\">\n",
       "  <thead>\n",
       "    <tr style=\"text-align: right;\">\n",
       "      <th></th>\n",
       "      <th>0</th>\n",
       "      <th>1</th>\n",
       "      <th>2</th>\n",
       "      <th>3</th>\n",
       "    </tr>\n",
       "  </thead>\n",
       "  <tbody>\n",
       "    <tr>\n",
       "      <th>0</th>\n",
       "      <td>0.00</td>\n",
       "      <td>5.86</td>\n",
       "      <td>1.46</td>\n",
       "      <td>4.64</td>\n",
       "    </tr>\n",
       "    <tr>\n",
       "      <th>1</th>\n",
       "      <td>5.86</td>\n",
       "      <td>0.00</td>\n",
       "      <td>10.00</td>\n",
       "      <td>1.46</td>\n",
       "    </tr>\n",
       "    <tr>\n",
       "      <th>2</th>\n",
       "      <td>1.46</td>\n",
       "      <td>10.00</td>\n",
       "      <td>0.00</td>\n",
       "      <td>5.86</td>\n",
       "    </tr>\n",
       "    <tr>\n",
       "      <th>3</th>\n",
       "      <td>4.64</td>\n",
       "      <td>1.46</td>\n",
       "      <td>5.86</td>\n",
       "      <td>0.00</td>\n",
       "    </tr>\n",
       "  </tbody>\n",
       "</table>\n",
       "</div>"
      ],
      "text/plain": [
       "      0      1      2     3\n",
       "0  0.00   5.86   1.46  4.64\n",
       "1  5.86   0.00  10.00  1.46\n",
       "2  1.46  10.00   0.00  5.86\n",
       "3  4.64   1.46   5.86  0.00"
      ]
     },
     "metadata": {},
     "execution_count": 31
    }
   ],
   "metadata": {}
  },
  {
   "cell_type": "markdown",
   "source": [
    "# Задание 2"
   ],
   "metadata": {}
  },
  {
   "cell_type": "code",
   "execution_count": 32,
   "source": [
    "df = pd.DataFrame({\r\n",
    "    \"X1\": [  8,  0,  10,  10, 2],\r\n",
    "    \"X2\": [-20, -1, -19, -20, 0]\r\n",
    "})\r\n",
    "\r\n",
    "df"
   ],
   "outputs": [
    {
     "output_type": "execute_result",
     "data": {
      "text/html": [
       "<div>\n",
       "<style scoped>\n",
       "    .dataframe tbody tr th:only-of-type {\n",
       "        vertical-align: middle;\n",
       "    }\n",
       "\n",
       "    .dataframe tbody tr th {\n",
       "        vertical-align: top;\n",
       "    }\n",
       "\n",
       "    .dataframe thead th {\n",
       "        text-align: right;\n",
       "    }\n",
       "</style>\n",
       "<table border=\"1\" class=\"dataframe\">\n",
       "  <thead>\n",
       "    <tr style=\"text-align: right;\">\n",
       "      <th></th>\n",
       "      <th>X1</th>\n",
       "      <th>X2</th>\n",
       "    </tr>\n",
       "  </thead>\n",
       "  <tbody>\n",
       "    <tr>\n",
       "      <th>0</th>\n",
       "      <td>8</td>\n",
       "      <td>-20</td>\n",
       "    </tr>\n",
       "    <tr>\n",
       "      <th>1</th>\n",
       "      <td>0</td>\n",
       "      <td>-1</td>\n",
       "    </tr>\n",
       "    <tr>\n",
       "      <th>2</th>\n",
       "      <td>10</td>\n",
       "      <td>-19</td>\n",
       "    </tr>\n",
       "    <tr>\n",
       "      <th>3</th>\n",
       "      <td>10</td>\n",
       "      <td>-20</td>\n",
       "    </tr>\n",
       "    <tr>\n",
       "      <th>4</th>\n",
       "      <td>2</td>\n",
       "      <td>0</td>\n",
       "    </tr>\n",
       "  </tbody>\n",
       "</table>\n",
       "</div>"
      ],
      "text/plain": [
       "   X1  X2\n",
       "0   8 -20\n",
       "1   0  -1\n",
       "2  10 -19\n",
       "3  10 -20\n",
       "4   2   0"
      ]
     },
     "metadata": {},
     "execution_count": 32
    }
   ],
   "metadata": {}
  },
  {
   "cell_type": "markdown",
   "source": [
    "## Subtask 1"
   ],
   "metadata": {}
  },
  {
   "cell_type": "code",
   "execution_count": 33,
   "source": [
    "\r\n",
    "mean = df.mean()\r\n",
    "var = df.var()\r\n",
    "pd.concat([mean, var], axis=1, keys=[\"mean\", \"var\"]).T"
   ],
   "outputs": [
    {
     "output_type": "execute_result",
     "data": {
      "text/html": [
       "<div>\n",
       "<style scoped>\n",
       "    .dataframe tbody tr th:only-of-type {\n",
       "        vertical-align: middle;\n",
       "    }\n",
       "\n",
       "    .dataframe tbody tr th {\n",
       "        vertical-align: top;\n",
       "    }\n",
       "\n",
       "    .dataframe thead th {\n",
       "        text-align: right;\n",
       "    }\n",
       "</style>\n",
       "<table border=\"1\" class=\"dataframe\">\n",
       "  <thead>\n",
       "    <tr style=\"text-align: right;\">\n",
       "      <th></th>\n",
       "      <th>X1</th>\n",
       "      <th>X2</th>\n",
       "    </tr>\n",
       "  </thead>\n",
       "  <tbody>\n",
       "    <tr>\n",
       "      <th>mean</th>\n",
       "      <td>6.0</td>\n",
       "      <td>-12.0</td>\n",
       "    </tr>\n",
       "    <tr>\n",
       "      <th>var</th>\n",
       "      <td>22.0</td>\n",
       "      <td>110.5</td>\n",
       "    </tr>\n",
       "  </tbody>\n",
       "</table>\n",
       "</div>"
      ],
      "text/plain": [
       "        X1     X2\n",
       "mean   6.0  -12.0\n",
       "var   22.0  110.5"
      ]
     },
     "metadata": {},
     "execution_count": 33
    }
   ],
   "metadata": {}
  },
  {
   "cell_type": "code",
   "execution_count": 34,
   "source": [
    "cov = df.cov()\r\n",
    "cov"
   ],
   "outputs": [
    {
     "output_type": "execute_result",
     "data": {
      "text/html": [
       "<div>\n",
       "<style scoped>\n",
       "    .dataframe tbody tr th:only-of-type {\n",
       "        vertical-align: middle;\n",
       "    }\n",
       "\n",
       "    .dataframe tbody tr th {\n",
       "        vertical-align: top;\n",
       "    }\n",
       "\n",
       "    .dataframe thead th {\n",
       "        text-align: right;\n",
       "    }\n",
       "</style>\n",
       "<table border=\"1\" class=\"dataframe\">\n",
       "  <thead>\n",
       "    <tr style=\"text-align: right;\">\n",
       "      <th></th>\n",
       "      <th>X1</th>\n",
       "      <th>X2</th>\n",
       "    </tr>\n",
       "  </thead>\n",
       "  <tbody>\n",
       "    <tr>\n",
       "      <th>X1</th>\n",
       "      <td>22.0</td>\n",
       "      <td>-47.5</td>\n",
       "    </tr>\n",
       "    <tr>\n",
       "      <th>X2</th>\n",
       "      <td>-47.5</td>\n",
       "      <td>110.5</td>\n",
       "    </tr>\n",
       "  </tbody>\n",
       "</table>\n",
       "</div>"
      ],
      "text/plain": [
       "      X1     X2\n",
       "X1  22.0  -47.5\n",
       "X2 -47.5  110.5"
      ]
     },
     "metadata": {},
     "execution_count": 34
    }
   ],
   "metadata": {}
  },
  {
   "cell_type": "markdown",
   "source": [
    "## Subtask 2"
   ],
   "metadata": {}
  },
  {
   "cell_type": "code",
   "execution_count": 35,
   "source": [
    "vals, vecs = np.linalg.eig(cov.to_numpy())\r\n",
    "idx = vals.argsort()[::-1]\r\n",
    "vals = vals[idx]\r\n",
    "vecs = vecs[:, idx]\r\n",
    "\r\n",
    "print(\"eigenvals:\", vals)\r\n",
    "print(\"eigenvecs:\", vecs)"
   ],
   "outputs": [
    {
     "output_type": "stream",
     "name": "stdout",
     "text": [
      "eigenvals: [131.16773641   1.33226359]\n",
      "eigenvecs: [[ 0.39897876 -0.91696017]\n",
      " [-0.91696017 -0.39897876]]\n"
     ]
    }
   ],
   "metadata": {}
  },
  {
   "cell_type": "markdown",
   "source": [
    "## Subtask 3"
   ],
   "metadata": {}
  },
  {
   "cell_type": "code",
   "execution_count": 36,
   "source": [
    "inner_size = len(df.columns)\r\n",
    "inner_size"
   ],
   "outputs": [
    {
     "output_type": "execute_result",
     "data": {
      "text/plain": [
       "2"
      ]
     },
     "metadata": {},
     "execution_count": 36
    }
   ],
   "metadata": {}
  },
  {
   "cell_type": "markdown",
   "source": [
    "## Subtask 4"
   ],
   "metadata": {}
  },
  {
   "cell_type": "code",
   "execution_count": 37,
   "source": [
    "def draw_arrow(xy1, xy2, color=\"k\"):\r\n",
    "    dx = xy2[0] - xy1[0]\r\n",
    "    dy = xy2[1] - xy1[1]\r\n",
    "\r\n",
    "    plt.arrow(xy1[0], xy1[1], dx, dy, color=color, linewidth=0.8, clip_on=False, head_width=0.5, overhang=0.5)\r\n",
    "\r\n",
    "\r\n",
    "\r\n",
    "pca = decomposition.PCA(n_components=2)\r\n",
    "\r\n",
    "mean = df.mean()\r\n",
    "tf_df = pd.DataFrame()\r\n",
    "tf_df[\"X1\"] = df[\"X1\"].transform(lambda x: x - mean[\"X1\"])\r\n",
    "tf_df[\"X2\"] = df[\"X2\"].transform(lambda x: x - mean[\"X2\"])\r\n",
    "\r\n",
    "plt.figure(figsize=[5, 5])\r\n",
    "plt.grid(True, \"both\")\r\n",
    "plt.axhline(y=0, color=\"k\", linewidth=\"1\")\r\n",
    "plt.axvline(x=0, color=\"k\", linewidth=\"1\")\r\n",
    "\r\n",
    "plt.scatter(tf_df[\"X1\"], tf_df[\"X2\"])\r\n",
    "draw_arrow(-vecs[0] * 14, vecs[0] * 10, color=\"r\")\r\n",
    "draw_arrow(-vecs.T[1] * 2, vecs.T[1] * 2, color=\"g\")\r\n",
    "plt.axis(\"square\")\r\n",
    "\r\n",
    "plt.show()\r\n",
    "\r\n",
    "pc = pca.fit_transform(tf_df).T\r\n",
    "print(pc)"
   ],
   "outputs": [
    {
     "output_type": "display_data",
     "data": {
      "image/png": "[encoded data removed]",
      "text/plain": [
       "<Figure size 360x360 with 1 Axes>"
      ]
     },
     "metadata": {
      "needs_background": "light"
     }
    },
    {
     "output_type": "stream",
     "name": "stdout",
     "text": [
      "[[-8.13363886 12.4804344  -8.01463621 -8.93159638 12.59943705]\n",
      " [ 1.35790974  1.11299466 -0.87498936 -0.4760106  -1.11990443]]\n"
     ]
    }
   ],
   "metadata": {}
  },
  {
   "cell_type": "code",
   "execution_count": 38,
   "source": [
    "print(mean.to_numpy())\r\n",
    "\r\n",
    "x, y = np.random.multivariate_normal(mean.to_numpy(), cov.T.to_numpy(), 10000).T\r\n",
    "\r\n",
    "plt.figure(figsize=(8, 8))\r\n",
    "plt.grid(True, \"both\")\r\n",
    "\r\n",
    "ax = sb.kdeplot(x=x, y=y)\r\n",
    "plt.show()"
   ],
   "outputs": [
    {
     "output_type": "stream",
     "name": "stdout",
     "text": [
      "[  6. -12.]\n"
     ]
    },
    {
     "output_type": "display_data",
     "data": {
      "image/png": "[encoded data removed]",
      "text/plain": [
       "<Figure size 576x576 with 1 Axes>"
      ]
     },
     "metadata": {
      "needs_background": "light"
     }
    }
   ],
   "metadata": {}
  },
  {
   "cell_type": "markdown",
   "source": [
    "# Задание 3"
   ],
   "metadata": {}
  },
  {
   "cell_type": "code",
   "execution_count": 43,
   "source": [
    "data_frame_1 = pd.DataFrame(data_1)\r\n",
    "\r\n",
    "plt.figure(figsize=(5,5))\r\n",
    "plt.scatter(data_frame_1[0], data_frame_1[1])\r\n",
    "plt.grid(True, \"both\")\r\n",
    "plt.axis(\"square\")\r\n",
    "plt.show()\r\n",
    "\r\n",
    "# calculated pca\r\n",
    "# pca = decomposition.PCA(n_components=2)\r\n",
    "# print(pca.fit_transform(data_frame_1).T)\r\n",
    "\r\n",
    "# calculated via precomputed linear kernel\r\n",
    "# linear_kernel = data_1.dot(data_1.T)\r\n",
    "# kpca = decomposition.KernelPCA(n_components=1, kernel=\"precomputed\")\r\n",
    "# print(kpca.fit_transform(linear_kernel).T)\r\n",
    "\r\n",
    "# calculated via precomputed kernel_function\r\n",
    "kpca = decomposition.KernelPCA(n_components=2, kernel=\"precomputed\")\r\n",
    "print(kpca.fit_transform(kernel_matrix).T)"
   ],
   "outputs": [
    {
     "output_type": "display_data",
     "data": {
      "image/png": "[encoded data removed]",
      "text/plain": [
       "<Figure size 360x360 with 1 Axes>"
      ]
     },
     "metadata": {
      "needs_background": "light"
     }
    },
    {
     "output_type": "stream",
     "name": "stdout",
     "text": [
      "[[ 2.81529553e-08 -6.83573643e-09 -6.83573643e-09  2.81529553e-08]\n",
      " [ 0.00000000e+00  0.00000000e+00  0.00000000e+00  0.00000000e+00]]\n"
     ]
    }
   ],
   "metadata": {}
  }
 ],
 "metadata": {
  "orig_nbformat": 4,
  "language_info": {
   "name": "python",
   "version": "3.9.7",
   "mimetype": "text/x-python",
   "codemirror_mode": {
    "name": "ipython",
    "version": 3
   },
   "pygments_lexer": "ipython3",
   "nbconvert_exporter": "python",
   "file_extension": ".py"
  },
  "kernelspec": {
   "name": "python3",
   "display_name": "Python 3.9.7 64-bit (windows store)"
  },
  "interpreter": {
   "hash": "cef0faf2ba9cdedfbb634571b266b4f56892d817403c578b4b7cc3c78c300ff1"
  }
 },
 "nbformat": 4,
 "nbformat_minor": 2
}