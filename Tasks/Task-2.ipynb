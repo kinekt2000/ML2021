{
 "cells": [
  {
   "cell_type": "markdown",
   "source": [
    "# includes"
   ],
   "metadata": {}
  },
  {
   "cell_type": "code",
   "execution_count": 82,
   "source": [
    "import pandas as pd\r\n",
    "import numpy as np\r\n",
    "\r\n",
    "from sklearn import preprocessing\r\n",
    "from sklearn import decomposition\r\n",
    "\r\n",
    "import matplotlib.pyplot as plt"
   ],
   "outputs": [],
   "metadata": {}
  },
  {
   "cell_type": "markdown",
   "source": [
    "# Задание 1"
   ],
   "metadata": {}
  },
  {
   "cell_type": "code",
   "execution_count": 83,
   "source": [
    "data_frame_1 = pd.DataFrame({\r\n",
    "    \"a1\": [4.0, 2.5, 3.5, 2.0],\r\n",
    "    \"a2\": [2.9, 1.0, 4.0, 2.1]\r\n",
    "})\r\n",
    "data_frame_1"
   ],
   "outputs": [
    {
     "output_type": "execute_result",
     "data": {
      "text/html": [
       "<div>\n",
       "<style scoped>\n",
       "    .dataframe tbody tr th:only-of-type {\n",
       "        vertical-align: middle;\n",
       "    }\n",
       "\n",
       "    .dataframe tbody tr th {\n",
       "        vertical-align: top;\n",
       "    }\n",
       "\n",
       "    .dataframe thead th {\n",
       "        text-align: right;\n",
       "    }\n",
       "</style>\n",
       "<table border=\"1\" class=\"dataframe\">\n",
       "  <thead>\n",
       "    <tr style=\"text-align: right;\">\n",
       "      <th></th>\n",
       "      <th>a1</th>\n",
       "      <th>a2</th>\n",
       "    </tr>\n",
       "  </thead>\n",
       "  <tbody>\n",
       "    <tr>\n",
       "      <th>0</th>\n",
       "      <td>4.0</td>\n",
       "      <td>2.9</td>\n",
       "    </tr>\n",
       "    <tr>\n",
       "      <th>1</th>\n",
       "      <td>2.5</td>\n",
       "      <td>1.0</td>\n",
       "    </tr>\n",
       "    <tr>\n",
       "      <th>2</th>\n",
       "      <td>3.5</td>\n",
       "      <td>4.0</td>\n",
       "    </tr>\n",
       "    <tr>\n",
       "      <th>3</th>\n",
       "      <td>2.0</td>\n",
       "      <td>2.1</td>\n",
       "    </tr>\n",
       "  </tbody>\n",
       "</table>\n",
       "</div>"
      ],
      "text/plain": [
       "    a1   a2\n",
       "0  4.0  2.9\n",
       "1  2.5  1.0\n",
       "2  3.5  4.0\n",
       "3  2.0  2.1"
      ]
     },
     "metadata": {},
     "execution_count": 83
    }
   ],
   "metadata": {}
  },
  {
   "cell_type": "code",
   "execution_count": 84,
   "source": [
    "def kernel(X, Y):\r\n",
    "    return np.linalg.norm(X - Y) ** 2\r\n"
   ],
   "outputs": [],
   "metadata": {}
  },
  {
   "cell_type": "code",
   "execution_count": 85,
   "source": [
    "data_1 = data_frame_1.to_numpy()\r\n",
    "kernel_matrix = [[kernel(x1, x2) for x2 in data_1] for x1 in data_1]\r\n",
    "pd.DataFrame(kernel_matrix)"
   ],
   "outputs": [
    {
     "output_type": "execute_result",
     "data": {
      "text/html": [
       "<div>\n",
       "<style scoped>\n",
       "    .dataframe tbody tr th:only-of-type {\n",
       "        vertical-align: middle;\n",
       "    }\n",
       "\n",
       "    .dataframe tbody tr th {\n",
       "        vertical-align: top;\n",
       "    }\n",
       "\n",
       "    .dataframe thead th {\n",
       "        text-align: right;\n",
       "    }\n",
       "</style>\n",
       "<table border=\"1\" class=\"dataframe\">\n",
       "  <thead>\n",
       "    <tr style=\"text-align: right;\">\n",
       "      <th></th>\n",
       "      <th>0</th>\n",
       "      <th>1</th>\n",
       "      <th>2</th>\n",
       "      <th>3</th>\n",
       "    </tr>\n",
       "  </thead>\n",
       "  <tbody>\n",
       "    <tr>\n",
       "      <th>0</th>\n",
       "      <td>0.00</td>\n",
       "      <td>5.86</td>\n",
       "      <td>1.46</td>\n",
       "      <td>4.64</td>\n",
       "    </tr>\n",
       "    <tr>\n",
       "      <th>1</th>\n",
       "      <td>5.86</td>\n",
       "      <td>0.00</td>\n",
       "      <td>10.00</td>\n",
       "      <td>1.46</td>\n",
       "    </tr>\n",
       "    <tr>\n",
       "      <th>2</th>\n",
       "      <td>1.46</td>\n",
       "      <td>10.00</td>\n",
       "      <td>0.00</td>\n",
       "      <td>5.86</td>\n",
       "    </tr>\n",
       "    <tr>\n",
       "      <th>3</th>\n",
       "      <td>4.64</td>\n",
       "      <td>1.46</td>\n",
       "      <td>5.86</td>\n",
       "      <td>0.00</td>\n",
       "    </tr>\n",
       "  </tbody>\n",
       "</table>\n",
       "</div>"
      ],
      "text/plain": [
       "      0      1      2     3\n",
       "0  0.00   5.86   1.46  4.64\n",
       "1  5.86   0.00  10.00  1.46\n",
       "2  1.46  10.00   0.00  5.86\n",
       "3  4.64   1.46   5.86  0.00"
      ]
     },
     "metadata": {},
     "execution_count": 85
    }
   ],
   "metadata": {}
  },
  {
   "cell_type": "markdown",
   "source": [
    "# Задание 2"
   ],
   "metadata": {}
  },
  {
   "cell_type": "code",
   "execution_count": 86,
   "source": [
    "data_frame_2 = pd.DataFrame({\r\n",
    "    \"a1\": [  8,  0,  10,  10, 2],\r\n",
    "    \"a2\": [-20, -1, -19, -20, 0]\r\n",
    "})\r\n",
    "data_frame_2"
   ],
   "outputs": [
    {
     "output_type": "execute_result",
     "data": {
      "text/html": [
       "<div>\n",
       "<style scoped>\n",
       "    .dataframe tbody tr th:only-of-type {\n",
       "        vertical-align: middle;\n",
       "    }\n",
       "\n",
       "    .dataframe tbody tr th {\n",
       "        vertical-align: top;\n",
       "    }\n",
       "\n",
       "    .dataframe thead th {\n",
       "        text-align: right;\n",
       "    }\n",
       "</style>\n",
       "<table border=\"1\" class=\"dataframe\">\n",
       "  <thead>\n",
       "    <tr style=\"text-align: right;\">\n",
       "      <th></th>\n",
       "      <th>a1</th>\n",
       "      <th>a2</th>\n",
       "    </tr>\n",
       "  </thead>\n",
       "  <tbody>\n",
       "    <tr>\n",
       "      <th>0</th>\n",
       "      <td>8</td>\n",
       "      <td>-20</td>\n",
       "    </tr>\n",
       "    <tr>\n",
       "      <th>1</th>\n",
       "      <td>0</td>\n",
       "      <td>-1</td>\n",
       "    </tr>\n",
       "    <tr>\n",
       "      <th>2</th>\n",
       "      <td>10</td>\n",
       "      <td>-19</td>\n",
       "    </tr>\n",
       "    <tr>\n",
       "      <th>3</th>\n",
       "      <td>10</td>\n",
       "      <td>-20</td>\n",
       "    </tr>\n",
       "    <tr>\n",
       "      <th>4</th>\n",
       "      <td>2</td>\n",
       "      <td>0</td>\n",
       "    </tr>\n",
       "  </tbody>\n",
       "</table>\n",
       "</div>"
      ],
      "text/plain": [
       "   a1  a2\n",
       "0   8 -20\n",
       "1   0  -1\n",
       "2  10 -19\n",
       "3  10 -20\n",
       "4   2   0"
      ]
     },
     "metadata": {},
     "execution_count": 86
    }
   ],
   "metadata": {}
  },
  {
   "cell_type": "markdown",
   "source": [
    "## subtask 1"
   ],
   "metadata": {}
  },
  {
   "cell_type": "code",
   "execution_count": 87,
   "source": [
    "mean_2 = data_frame_2.mean()\r\n",
    "pd.DataFrame(mean_2, columns=[\"mean\"]).T"
   ],
   "outputs": [
    {
     "output_type": "execute_result",
     "data": {
      "text/html": [
       "<div>\n",
       "<style scoped>\n",
       "    .dataframe tbody tr th:only-of-type {\n",
       "        vertical-align: middle;\n",
       "    }\n",
       "\n",
       "    .dataframe tbody tr th {\n",
       "        vertical-align: top;\n",
       "    }\n",
       "\n",
       "    .dataframe thead th {\n",
       "        text-align: right;\n",
       "    }\n",
       "</style>\n",
       "<table border=\"1\" class=\"dataframe\">\n",
       "  <thead>\n",
       "    <tr style=\"text-align: right;\">\n",
       "      <th></th>\n",
       "      <th>a1</th>\n",
       "      <th>a2</th>\n",
       "    </tr>\n",
       "  </thead>\n",
       "  <tbody>\n",
       "    <tr>\n",
       "      <th>mean</th>\n",
       "      <td>6.0</td>\n",
       "      <td>-12.0</td>\n",
       "    </tr>\n",
       "  </tbody>\n",
       "</table>\n",
       "</div>"
      ],
      "text/plain": [
       "       a1    a2\n",
       "mean  6.0 -12.0"
      ]
     },
     "metadata": {},
     "execution_count": 87
    }
   ],
   "metadata": {}
  },
  {
   "cell_type": "code",
   "execution_count": 88,
   "source": [
    "cov_2 = data_frame_2.cov()\r\n",
    "cov_2"
   ],
   "outputs": [
    {
     "output_type": "execute_result",
     "data": {
      "text/html": [
       "<div>\n",
       "<style scoped>\n",
       "    .dataframe tbody tr th:only-of-type {\n",
       "        vertical-align: middle;\n",
       "    }\n",
       "\n",
       "    .dataframe tbody tr th {\n",
       "        vertical-align: top;\n",
       "    }\n",
       "\n",
       "    .dataframe thead th {\n",
       "        text-align: right;\n",
       "    }\n",
       "</style>\n",
       "<table border=\"1\" class=\"dataframe\">\n",
       "  <thead>\n",
       "    <tr style=\"text-align: right;\">\n",
       "      <th></th>\n",
       "      <th>a1</th>\n",
       "      <th>a2</th>\n",
       "    </tr>\n",
       "  </thead>\n",
       "  <tbody>\n",
       "    <tr>\n",
       "      <th>a1</th>\n",
       "      <td>22.0</td>\n",
       "      <td>-47.5</td>\n",
       "    </tr>\n",
       "    <tr>\n",
       "      <th>a2</th>\n",
       "      <td>-47.5</td>\n",
       "      <td>110.5</td>\n",
       "    </tr>\n",
       "  </tbody>\n",
       "</table>\n",
       "</div>"
      ],
      "text/plain": [
       "      a1     a2\n",
       "a1  22.0  -47.5\n",
       "a2 -47.5  110.5"
      ]
     },
     "metadata": {},
     "execution_count": 88
    }
   ],
   "metadata": {}
  },
  {
   "cell_type": "markdown",
   "source": [
    "## subtask 2"
   ],
   "metadata": {}
  },
  {
   "cell_type": "markdown",
   "source": [
    "$Mv=\\lambda v$, where $v$ - eigenvector, $\\lambda$ - eigenvalue\r\n",
    "$$\r\n",
    "\\begin{vmatrix*}[l]\r\n",
    "22 - \\lambda & -47.5 \\\\\r\n",
    "-47.5 & 110.5 - \\lambda \\\\\r\n",
    "\\end{vmatrix*}\r\n",
    "= \\lambda^{2} - 132.5\\lambda + 2431 - 2256.25 = \\\\ = \\lambda^{2} - 132.5\\lambda - 174.75 = 0 \\\\\r\n",
    "\r\n",
    "$$"
   ],
   "metadata": {}
  },
  {
   "cell_type": "markdown",
   "source": [
    "$\\lambda_{1}\\approx131.2 ; \\\\ \\lambda_{2}\\approx1.3$"
   ],
   "metadata": {}
  },
  {
   "cell_type": "code",
   "execution_count": 89,
   "source": [
    "vals, vecs = np.linalg.eig(cov_2.to_numpy())\r\n",
    "\r\n",
    "idx = vals.argsort()[::-1]\r\n",
    "vals = vals[idx]\r\n",
    "vecs = vecs[:, idx]\r\n",
    "\r\n",
    "pd.DataFrame(vecs, columns=vals, index=[\"x\", \"y\"]).T"
   ],
   "outputs": [
    {
     "output_type": "execute_result",
     "data": {
      "text/html": [
       "<div>\n",
       "<style scoped>\n",
       "    .dataframe tbody tr th:only-of-type {\n",
       "        vertical-align: middle;\n",
       "    }\n",
       "\n",
       "    .dataframe tbody tr th {\n",
       "        vertical-align: top;\n",
       "    }\n",
       "\n",
       "    .dataframe thead th {\n",
       "        text-align: right;\n",
       "    }\n",
       "</style>\n",
       "<table border=\"1\" class=\"dataframe\">\n",
       "  <thead>\n",
       "    <tr style=\"text-align: right;\">\n",
       "      <th></th>\n",
       "      <th>x</th>\n",
       "      <th>y</th>\n",
       "    </tr>\n",
       "  </thead>\n",
       "  <tbody>\n",
       "    <tr>\n",
       "      <th>131.167736</th>\n",
       "      <td>0.398979</td>\n",
       "      <td>-0.916960</td>\n",
       "    </tr>\n",
       "    <tr>\n",
       "      <th>1.332264</th>\n",
       "      <td>-0.916960</td>\n",
       "      <td>-0.398979</td>\n",
       "    </tr>\n",
       "  </tbody>\n",
       "</table>\n",
       "</div>"
      ],
      "text/plain": [
       "                   x         y\n",
       "131.167736  0.398979 -0.916960\n",
       "1.332264   -0.916960 -0.398979"
      ]
     },
     "metadata": {},
     "execution_count": 89
    }
   ],
   "metadata": {}
  },
  {
   "cell_type": "markdown",
   "source": [
    "## subtask 3\r\n"
   ],
   "metadata": {}
  },
  {
   "cell_type": "markdown",
   "source": [
    "$corr(X, Y) = \\frac{cov(X, Y)}{\\sigma_{X}\\sigma_{Y}}$"
   ],
   "metadata": {}
  },
  {
   "cell_type": "code",
   "execution_count": 90,
   "source": [
    "data_frame_2.corr()"
   ],
   "outputs": [
    {
     "output_type": "execute_result",
     "data": {
      "text/html": [
       "<div>\n",
       "<style scoped>\n",
       "    .dataframe tbody tr th:only-of-type {\n",
       "        vertical-align: middle;\n",
       "    }\n",
       "\n",
       "    .dataframe tbody tr th {\n",
       "        vertical-align: top;\n",
       "    }\n",
       "\n",
       "    .dataframe thead th {\n",
       "        text-align: right;\n",
       "    }\n",
       "</style>\n",
       "<table border=\"1\" class=\"dataframe\">\n",
       "  <thead>\n",
       "    <tr style=\"text-align: right;\">\n",
       "      <th></th>\n",
       "      <th>a1</th>\n",
       "      <th>a2</th>\n",
       "    </tr>\n",
       "  </thead>\n",
       "  <tbody>\n",
       "    <tr>\n",
       "      <th>a1</th>\n",
       "      <td>1.000000</td>\n",
       "      <td>-0.963388</td>\n",
       "    </tr>\n",
       "    <tr>\n",
       "      <th>a2</th>\n",
       "      <td>-0.963388</td>\n",
       "      <td>1.000000</td>\n",
       "    </tr>\n",
       "  </tbody>\n",
       "</table>\n",
       "</div>"
      ],
      "text/plain": [
       "          a1        a2\n",
       "a1  1.000000 -0.963388\n",
       "a2 -0.963388  1.000000"
      ]
     },
     "metadata": {},
     "execution_count": 90
    }
   ],
   "metadata": {}
  },
  {
   "cell_type": "markdown",
   "source": [
    "# Задание 3"
   ],
   "metadata": {}
  },
  {
   "cell_type": "markdown",
   "source": [
    "## subtask 1"
   ],
   "metadata": {}
  },
  {
   "cell_type": "code",
   "execution_count": 91,
   "source": [
    "def proj(of, onto):\r\n",
    "    return np.dot(of, onto) / np.dot(onto, onto)\r\n",
    "\r\n",
    "data_frame_3 = pd.DataFrame()\r\n",
    "data_frame_3[\"a1\"] = data_frame_2[\"a1\"].transform(lambda x: x - mean_2[\"a1\"])\r\n",
    "data_frame_3[\"a2\"] = data_frame_2[\"a2\"].transform(lambda x: x - mean_2[\"a2\"])\r\n",
    "\r\n",
    "principal_1 = np.array(list(map(lambda x: proj(x, vecs[0]), data_frame_3.to_numpy())))\r\n",
    "principal_2 = np.array(list(map(lambda x: proj(x, vecs[1]), data_frame_3.to_numpy())))\r\n",
    "\r\n",
    "pd.DataFrame({\r\n",
    "    \"P1\": principal_1,\r\n",
    "    \"P2\": principal_2\r\n",
    "}).T.round(3)"
   ],
   "outputs": [
    {
     "output_type": "execute_result",
     "data": {
      "text/html": [
       "<div>\n",
       "<style scoped>\n",
       "    .dataframe tbody tr th:only-of-type {\n",
       "        vertical-align: middle;\n",
       "    }\n",
       "\n",
       "    .dataframe tbody tr th {\n",
       "        vertical-align: top;\n",
       "    }\n",
       "\n",
       "    .dataframe thead th {\n",
       "        text-align: right;\n",
       "    }\n",
       "</style>\n",
       "<table border=\"1\" class=\"dataframe\">\n",
       "  <thead>\n",
       "    <tr style=\"text-align: right;\">\n",
       "      <th></th>\n",
       "      <th>0</th>\n",
       "      <th>1</th>\n",
       "      <th>2</th>\n",
       "      <th>3</th>\n",
       "      <th>4</th>\n",
       "    </tr>\n",
       "  </thead>\n",
       "  <tbody>\n",
       "    <tr>\n",
       "      <th>P1</th>\n",
       "      <td>8.134</td>\n",
       "      <td>-12.480</td>\n",
       "      <td>8.015</td>\n",
       "      <td>8.932</td>\n",
       "      <td>-12.599</td>\n",
       "    </tr>\n",
       "    <tr>\n",
       "      <th>P2</th>\n",
       "      <td>1.358</td>\n",
       "      <td>1.113</td>\n",
       "      <td>-0.875</td>\n",
       "      <td>-0.476</td>\n",
       "      <td>-1.120</td>\n",
       "    </tr>\n",
       "  </tbody>\n",
       "</table>\n",
       "</div>"
      ],
      "text/plain": [
       "        0       1      2      3       4\n",
       "P1  8.134 -12.480  8.015  8.932 -12.599\n",
       "P2  1.358   1.113 -0.875 -0.476  -1.120"
      ]
     },
     "metadata": {},
     "execution_count": 91
    }
   ],
   "metadata": {}
  },
  {
   "cell_type": "markdown",
   "source": [
    "## subtask 2"
   ],
   "metadata": {}
  },
  {
   "cell_type": "code",
   "execution_count": 92,
   "source": [
    "pd.DataFrame({\r\n",
    "    \"P1\": [vals[0] / vals.sum()],\r\n",
    "    \"P2\": [vals[1] / vals.sum()]\r\n",
    "}, index=[\"variance proportion\"])"
   ],
   "outputs": [
    {
     "output_type": "execute_result",
     "data": {
      "text/html": [
       "<div>\n",
       "<style scoped>\n",
       "    .dataframe tbody tr th:only-of-type {\n",
       "        vertical-align: middle;\n",
       "    }\n",
       "\n",
       "    .dataframe tbody tr th {\n",
       "        vertical-align: top;\n",
       "    }\n",
       "\n",
       "    .dataframe thead th {\n",
       "        text-align: right;\n",
       "    }\n",
       "</style>\n",
       "<table border=\"1\" class=\"dataframe\">\n",
       "  <thead>\n",
       "    <tr style=\"text-align: right;\">\n",
       "      <th></th>\n",
       "      <th>P1</th>\n",
       "      <th>P2</th>\n",
       "    </tr>\n",
       "  </thead>\n",
       "  <tbody>\n",
       "    <tr>\n",
       "      <th>variance proportion</th>\n",
       "      <td>0.989945</td>\n",
       "      <td>0.010055</td>\n",
       "    </tr>\n",
       "  </tbody>\n",
       "</table>\n",
       "</div>"
      ],
      "text/plain": [
       "                           P1        P2\n",
       "variance proportion  0.989945  0.010055"
      ]
     },
     "metadata": {},
     "execution_count": 92
    }
   ],
   "metadata": {}
  },
  {
   "cell_type": "markdown",
   "source": [
    "## subtask 3"
   ],
   "metadata": {}
  },
  {
   "cell_type": "code",
   "execution_count": 93,
   "source": [
    "def draw_arrow(xy1, xy2, color=\"k\"):\r\n",
    "    dx = xy2[0] - xy1[0]\r\n",
    "    dy = xy2[1] - xy1[1]\r\n",
    "\r\n",
    "    plt.arrow(xy1[0], xy1[1], dx, dy, color=color, linewidth=0.8, clip_on=False, head_width=0.5, overhang=0.5)\r\n",
    "\r\n",
    "plt.figure(figsize=[5, 5])\r\n",
    "plt.grid(True, \"both\")\r\n",
    "plt.axhline(y=0, color=\"k\", linewidth=\"1\")\r\n",
    "plt.axvline(x=0, color=\"k\", linewidth=\"1\")\r\n",
    "\r\n",
    "plt.scatter(data_frame_3[\"a1\"], data_frame_3[\"a2\"])\r\n",
    "draw_arrow(-vecs[0] * 14, vecs[0] * 10, color=\"r\")\r\n",
    "draw_arrow(-vecs.T[1] * 2, vecs.T[1] * 2, color=\"g\")\r\n",
    "\r\n",
    "for index, point in enumerate(data_frame_3.to_numpy()):\r\n",
    "    line = np.array([\r\n",
    "        vecs[0] * principal_1[index],\r\n",
    "        point,\r\n",
    "        # vecs[1] * principal_2[index]\r\n",
    "    ]).T\r\n",
    "    plt.plot(line[0], line[1], linewidth=\"0.5\", color=\"k\")\r\n",
    "\r\n",
    "plt.axis(\"square\")\r\n",
    "\r\n",
    "plt.show()"
   ],
   "outputs": [
    {
     "output_type": "display_data",
     "data": {
      "image/png": "[encoded data removed]",
      "text/plain": [
       "<Figure size 360x360 with 1 Axes>"
      ]
     },
     "metadata": {
      "needs_background": "light"
     }
    }
   ],
   "metadata": {}
  }
 ],
 "metadata": {
  "orig_nbformat": 4,
  "language_info": {
   "name": "python",
   "version": "3.9.7",
   "mimetype": "text/x-python",
   "codemirror_mode": {
    "name": "ipython",
    "version": 3
   },
   "pygments_lexer": "ipython3",
   "nbconvert_exporter": "python",
   "file_extension": ".py"
  },
  "kernelspec": {
   "name": "python3",
   "display_name": "Python 3.9.7 64-bit (windows store)"
  },
  "interpreter": {
   "hash": "cef0faf2ba9cdedfbb634571b266b4f56892d817403c578b4b7cc3c78c300ff1"
  }
 },
 "nbformat": 4,
 "nbformat_minor": 2
}